{
 "cells": [
  {
   "cell_type": "markdown",
   "metadata": {},
   "source": [
    "---\n",
    "\n",
    "_You are currently looking at **version 1.5** of this notebook. To download notebooks and datafiles, as well as get help on Jupyter notebooks in the Coursera platform, visit the [Jupyter Notebook FAQ](https://www.coursera.org/learn/python-data-analysis/resources/0dhYG) course resource._\n",
    "\n",
    "---"
   ]
  },
  {
   "cell_type": "markdown",
   "metadata": {},
   "source": [
    "# Assignment 3 - More Pandas\n",
    "This assignment requires more individual learning then the last one did - you are encouraged to check out the [pandas documentation](http://pandas.pydata.org/pandas-docs/stable/) to find functions or methods you might not have used yet, or ask questions on [Stack Overflow](http://stackoverflow.com/) and tag them as pandas and python related. And of course, the discussion forums are open for interaction with your peers and the course staff."
   ]
  },
  {
   "cell_type": "markdown",
   "metadata": {},
   "source": [
    "### Question 1 (20%)\n",
    "Load the energy data from the file `Energy Indicators.xls`, which is a list of indicators of [energy supply and renewable electricity production](Energy%20Indicators.xls) from the [United Nations](http://unstats.un.org/unsd/environment/excel_file_tables/2013/Energy%20Indicators.xls) for the year 2013, and should be put into a DataFrame with the variable name of **energy**.\n",
    "\n",
    "Keep in mind that this is an Excel file, and not a comma separated values file. Also, make sure to exclude the footer and header information from the datafile. The first two columns are unneccessary, so you should get rid of them, and you should change the column labels so that the columns are:\n",
    "\n",
    "`['Country', 'Energy Supply', 'Energy Supply per Capita', '% Renewable']`\n",
    "\n",
    "Convert `Energy Supply` to gigajoules (there are 1,000,000 gigajoules in a petajoule). For all countries which have missing data (e.g. data with \"...\") make sure this is reflected as `np.NaN` values.\n",
    "\n",
    "Rename the following list of countries (for use in later questions):\n",
    "\n",
    "```\"Republic of Korea\": \"South Korea\",\n",
    "\"United States of America\": \"United States\",\n",
    "\"United Kingdom of Great Britain and Northern Ireland\": \"United Kingdom\",\n",
    "\"China, Hong Kong Special Administrative Region\": \"Hong Kong\"```\n",
    "\n",
    "There are also several countries with numbers and/or parenthesis in their name. Be sure to remove these, \n",
    "\n",
    "e.g. \n",
    "\n",
    "`'Bolivia (Plurinational State of)'` should be `'Bolivia'`, \n",
    "\n",
    "`'Switzerland17'` should be `'Switzerland'`.\n",
    "\n",
    "<br>\n",
    "\n",
    "Next, load the GDP data from the file `world_bank.csv`, which is a csv containing countries' GDP from 1960 to 2015 from [World Bank](http://data.worldbank.org/indicator/NY.GDP.MKTP.CD). Call this DataFrame **GDP**. \n",
    "\n",
    "Make sure to skip the header, and rename the following list of countries:\n",
    "\n",
    "```\"Korea, Rep.\": \"South Korea\", \n",
    "\"Iran, Islamic Rep.\": \"Iran\",\n",
    "\"Hong Kong SAR, China\": \"Hong Kong\"```\n",
    "\n",
    "<br>\n",
    "\n",
    "Finally, load the [Sciamgo Journal and Country Rank data for Energy Engineering and Power Technology](http://www.scimagojr.com/countryrank.php?category=2102) from the file `scimagojr-3.xlsx`, which ranks countries based on their journal contributions in the aforementioned area. Call this DataFrame **ScimEn**.\n",
    "\n",
    "Join the three datasets: GDP, Energy, and ScimEn into a new dataset (using the intersection of country names). Use only the last 10 years (2006-2015) of GDP data and only the top 15 countries by Scimagojr 'Rank' (Rank 1 through 15). \n",
    "\n",
    "The index of this DataFrame should be the name of the country, and the columns should be ['Rank', 'Documents', 'Citable documents', 'Citations', 'Self-citations',\n",
    "       'Citations per document', 'H index', 'Energy Supply',\n",
    "       'Energy Supply per Capita', '% Renewable', '2006', '2007', '2008',\n",
    "       '2009', '2010', '2011', '2012', '2013', '2014', '2015'].\n",
    "\n",
    "*This function should return a DataFrame with 20 columns and 15 entries.*"
   ]
  },
  {
   "cell_type": "code",
   "execution_count": 1,
   "metadata": {},
   "outputs": [],
   "source": [
    "import pandas as pd\n",
    "import numpy as np"
   ]
  },
  {
   "cell_type": "code",
   "execution_count": 61,
   "metadata": {},
   "outputs": [],
   "source": [
    "def answer_one():\n",
    "    # the data is uploaded and prepared by removing unwanted rows\n",
    "    energy = pd.read_excel('Energy Indicators.xls', skiprows=16, skipfooter=38)\n",
    "    # using the '.drop' function, more data preparation was done by removing unwanted rows and columns\n",
    "    energy.drop(energy.index[0], inplace=True)\n",
    "    energy.drop(energy.columns[[0,1]], axis=1, inplace=True)\n",
    "    # the names of each column header are replaced\n",
    "    energy.columns = ['Country', 'Energy Supply', 'Energy Supply per Capita', '% Renewable']\n",
    "\n",
    "    # using the '.replace' function, values in the dataframe are replaced\n",
    "    #energy.replace({'Energy Supply': {'...': np.nan},'Energy Supply per Capita': {'...': np.nan},'% Renewable': {'...': np.nan}}, inplace=True)\n",
    "    energy.replace('...', np.nan, inplace=True)\n",
    "       \n",
    "    # using the '.str.replace', characters within parentheis and numbers were replaced with '' (nothing)\n",
    "    energy['Country'] = energy['Country'].str.replace(r'\\(.*\\)','')\n",
    "    energy['Country'] = energy['Country'].str.replace('\\d+','')\n",
    "    # using the '.str.strp', whitespaces were removed from 'Country' column\n",
    "    energy['Country'] = energy['Country'].str.strip()\n",
    "    \n",
    "    # removed empty rows\n",
    "    energy.dropna()\n",
    "    \n",
    "    # more data preparation done by changing some country names using the '.str.replace'\n",
    "    energy['Country'] = energy['Country'].str.replace('Republic of Korea', 'South Korea')\n",
    "    energy['Country'] = energy['Country'].str.replace('United States of America', 'United States')\n",
    "    energy['Country'] = energy['Country'].str.replace('United Kingdom of Great Britain and Northern Ireland', 'United Kingdom')\n",
    "    energy['Country'] = energy['Country'].str.replace('China, Hong Kong Special Administrative Region', 'Hong Kong')\n",
    "    \n",
    "    energy['Energy Supply'] *= 1000000\n",
    "    \n",
    "    # the data is uploaded and prepared by removing unwanted rows\n",
    "    GDP = pd.read_csv('world_bank.csv', skiprows=4)\n",
    "    GDP = GDP.rename(columns = {'Country Name': 'Country'})\n",
    "    \n",
    "    # more data preparation done by changing some country names using the '.str.replace'\n",
    "    GDP['Country'] = GDP['Country'].str.replace(\"Korea, Rep.\", \"South Korea\")\n",
    "    GDP['Country'] = GDP['Country'].str.replace(\"Iran, Islamic Rep.\", \"Iran\",)\n",
    "    GDP['Country'] = GDP['Country'].str.replace(\"Hong Kong SAR, China\", \"Hong Kong\")\n",
    "    GDP = GDP.drop(GDP.iloc[:,1:50], axis=1)\n",
    "        \n",
    "    ScimEn = pd.read_excel('scimagojr-3.xlsx')\n",
    "    \n",
    "    # merge the three tables and filter the data to the top 15 hughest ranking countries\n",
    "    merge1 = pd.merge(ScimEn,energy, how='outer', left_on='Country', right_on='Country')\n",
    "    merge2 = pd.merge(merge1, GDP, how='outer', left_on='Country', right_on='Country')\n",
    "    merge2.set_index('Country', inplace=True)\n",
    "    merge2.sort_values(['Rank'], inplace=True)\n",
    "    merge2 = merge2[:15]\n",
    "    \n",
    "    return merge2"
   ]
  },
  {
   "cell_type": "markdown",
   "metadata": {},
   "source": [
    "### Question 2 (6.6%)\n",
    "The previous question joined three datasets then reduced this to just the top 15 entries. When you joined the datasets, but before you reduced this to the top 15 items, how many entries did you lose?\n",
    "\n",
    "*This function should return a single number.*"
   ]
  },
  {
   "cell_type": "code",
   "execution_count": null,
   "metadata": {},
   "outputs": [],
   "source": [
    "%%HTML\n",
    "<svg width=\"800\" height=\"300\">\n",
    "  <circle cx=\"150\" cy=\"180\" r=\"80\" fill-opacity=\"0.2\" stroke=\"black\" stroke-width=\"2\" fill=\"blue\" />\n",
    "  <circle cx=\"200\" cy=\"100\" r=\"80\" fill-opacity=\"0.2\" stroke=\"black\" stroke-width=\"2\" fill=\"red\" />\n",
    "  <circle cx=\"100\" cy=\"100\" r=\"80\" fill-opacity=\"0.2\" stroke=\"black\" stroke-width=\"2\" fill=\"green\" />\n",
    "  <line x1=\"150\" y1=\"125\" x2=\"300\" y2=\"150\" stroke=\"black\" stroke-width=\"2\" fill=\"black\" stroke-dasharray=\"5,3\"/>\n",
    "  <text  x=\"300\" y=\"165\" font-family=\"Verdana\" font-size=\"35\">Everything but this!</text>\n",
    "</svg>"
   ]
  },
  {
   "cell_type": "code",
   "execution_count": 98,
   "metadata": {},
   "outputs": [],
   "source": [
    "def answer_two():\n",
    "   # the data is uploaded and prepared by removing unwanted rows\n",
    "    energy = pd.read_excel('Energy Indicators.xls', skiprows=16, skipfooter=38)\n",
    "    # using the '.drop' function, more data preparation was done by removing unwanted rows and columns\n",
    "    energy.drop(energy.index[0], inplace=True)\n",
    "    energy.drop(energy.columns[[0,1]], axis=1, inplace=True)\n",
    "    # the names of each column header are replaced\n",
    "    energy.columns = ['Country', 'Energy Supply', 'Energy Supply per Capita', '% Renewable']\n",
    "\n",
    "    # using the '.replace' function, values in the dataframe are replaced\n",
    "    #energy.replace({'Energy Supply': {'...': np.nan},'Energy Supply per Capita': {'...': np.nan},'% Renewable': {'...': np.nan}}, inplace=True)\n",
    "    energy.replace('...', np.nan, inplace=True)\n",
    "       \n",
    "    # using the '.str.replace', characters within parentheis and numbers were replaced with '' (nothing)\n",
    "    energy['Country'] = energy['Country'].str.replace(r'\\(.*\\)','')\n",
    "    energy['Country'] = energy['Country'].str.replace('\\d+','')\n",
    "    # using the '.str.strp', whitespaces were removed from 'Country' column\n",
    "    energy['Country'] = energy['Country'].str.strip()\n",
    "    \n",
    "    # removed empty rows\n",
    "    energy.dropna()\n",
    "    \n",
    "    # more data preparation done by changing some country names using the '.str.replace'\n",
    "    energy['Country'] = energy['Country'].str.replace('Republic of Korea', 'South Korea')\n",
    "    energy['Country'] = energy['Country'].str.replace('United States of America', 'United States')\n",
    "    energy['Country'] = energy['Country'].str.replace('United Kingdom of Great Britain and Northern Ireland', 'United Kingdom')\n",
    "    energy['Country'] = energy['Country'].str.replace('China, Hong Kong Special Administrative Region', 'Hong Kong')\n",
    "    \n",
    "    energy['Energy Supply'] *= 1000000\n",
    "    \n",
    "    # the data is uploaded and prepared by removing unwanted rows\n",
    "    GDP = pd.read_csv('world_bank.csv', skiprows=4)\n",
    "    GDP = GDP.rename(columns = {'Country Name': 'Country'})\n",
    "    \n",
    "    # more data preparation done by changing some country names using the '.str.replace'\n",
    "    GDP['Country'] = GDP['Country'].str.replace(\"Korea, Rep.\", \"South Korea\")\n",
    "    GDP['Country'] = GDP['Country'].str.replace(\"Iran, Islamic Rep.\", \"Iran\",)\n",
    "    GDP['Country'] = GDP['Country'].str.replace(\"Hong Kong SAR, China\", \"Hong Kong\")\n",
    "    GDP = GDP.drop(GDP.iloc[:,1:50], axis=1)\n",
    "    \n",
    "    ScimEn = pd.read_excel('scimagojr-3.xlsx')\n",
    "    \n",
    "    # create a single dataframe where all the three sources are stacked and then all the unique 'Country' for three sources are taken\n",
    "    country_unique = len(pd.concat([ScimEn['Country'],energy['Country'],GDP['Country']]).unique())\n",
    "    \n",
    "    # merge all three sources by 'Country' and the data is filtered with only the countries present in all sources remain\n",
    "    num_merge = GDP.merge(energy, left_on='Country', right_on='Country', how='inner').merge(ScimEn, left_on='Country', right_on='Country', how='inner').shape[0]\n",
    "    \n",
    "    # take the difference to get the number of lost entries after merging the datasets\n",
    "    lost_entries = country_unique - num_merge\n",
    "    \n",
    "    return lost_entries"
   ]
  },
  {
   "cell_type": "markdown",
   "metadata": {},
   "source": [
    "<br>\n",
    "\n",
    "Answer the following questions in the context of only the top 15 countries by Scimagojr Rank (aka the DataFrame returned by `answer_one()`)"
   ]
  },
  {
   "cell_type": "markdown",
   "metadata": {},
   "source": [
    "### Question 3 (6.6%)\n",
    "What is the average GDP over the last 10 years for each country? (exclude missing values from this calculation.)\n",
    "\n",
    "*This function should return a Series named `avgGDP` with 15 countries and their average GDP sorted in descending order.*"
   ]
  },
  {
   "cell_type": "code",
   "execution_count": 105,
   "metadata": {
    "scrolled": true
   },
   "outputs": [],
   "source": [
    "def answer_three():\n",
    "    # call the answer for question #1\n",
    "    Top15 = answer_one()\n",
    "    # prepare the data by calling all the rows, and columns from 10 up to the last --> '.iloc[:,10:]'\n",
    "    Top15 = Top15.iloc[:,10:]\n",
    "    # using the '.mean' function, take the average per each row '(axis=1)' and sort them in descending order\n",
    "    avgGDP = Top15.mean(axis=1).sort_values(ascending=False)\n",
    "    return avgGDP"
   ]
  },
  {
   "cell_type": "markdown",
   "metadata": {},
   "source": [
    "### Question 4 (6.6%)\n",
    "By how much had the GDP changed over the 10 year span for the country with the 6th largest average GDP?\n",
    "\n",
    "*This function should return a single number.*"
   ]
  },
  {
   "cell_type": "code",
   "execution_count": 110,
   "metadata": {
    "scrolled": true
   },
   "outputs": [],
   "source": [
    "def answer_four():\n",
    "    # call the answer for question #1\n",
    "    Top15 = answer_one()\n",
    "    # prepare the data by calling all the rows, and columns from 10 up to the last --> '.iloc[:,10:]'\n",
    "    Top15 = Top15.iloc[:,10:]\n",
    "    # using the '.mean' function, take the average per each row '(axis=1)' and sort them in descending order\n",
    "    avgGDP = Top15.mean(axis=1).sort_values(ascending=False)\n",
    "    # define the variable for the country with 6th highest GDP\n",
    "    sixth = avgGDP.index[5]\n",
    "    # the change in GDP for the country 'sixth' can be acquired by getting the difference of the GDP from the first and last columns\n",
    "    diff = abs(Top15.loc[sixth].iloc[0] - Top15.loc[sixth].iloc[-1])\n",
    "    return diff"
   ]
  },
  {
   "cell_type": "markdown",
   "metadata": {},
   "source": [
    "### Question 5 (6.6%)\n",
    "What is the mean `Energy Supply per Capita`?\n",
    "\n",
    "*This function should return a single number.*"
   ]
  },
  {
   "cell_type": "code",
   "execution_count": 115,
   "metadata": {},
   "outputs": [],
   "source": [
    "def answer_five():\n",
    "    # call the answer for question #1\n",
    "    Top15 = answer_one()\n",
    "    # create a series that contains only the 'Energy Supply per Capita' column and take the average\n",
    "    ESpC_mean = Top15.iloc[:,8].mean()\n",
    "    return ESpC_mean"
   ]
  },
  {
   "cell_type": "markdown",
   "metadata": {},
   "source": [
    "### Question 6 (6.6%)\n",
    "What country has the maximum % Renewable and what is the percentage?\n",
    "\n",
    "*This function should return a tuple with the name of the country and the percentage.*"
   ]
  },
  {
   "cell_type": "code",
   "execution_count": 126,
   "metadata": {},
   "outputs": [],
   "source": [
    "def answer_six():\n",
    "    # call the answer for question #1\n",
    "    Top15 = answer_one()\n",
    "    # retrieve the index (Country) with the highest value from column 9\n",
    "    maxRen_country = Top15.iloc[:,9].idxmax()\n",
    "    # retrive the highest value from column 9 \n",
    "    maxRen_percent = Top15.iloc[:,9].max()\n",
    "    # create a tuple for the country and the value\n",
    "    return (maxRen_country, maxRen_percent)"
   ]
  },
  {
   "cell_type": "markdown",
   "metadata": {},
   "source": [
    "### Question 7 (6.6%)\n",
    "Create a new column that is the ratio of Self-Citations to Total Citations. \n",
    "What is the maximum value for this new column, and what country has the highest ratio?\n",
    "\n",
    "*This function should return a tuple with the name of the country and the ratio.*"
   ]
  },
  {
   "cell_type": "code",
   "execution_count": 138,
   "metadata": {},
   "outputs": [],
   "source": [
    "def answer_seven():\n",
    "    # call the answer for question #1    \n",
    "    Top15 = answer_one()\n",
    "    # create a new column for the ratio of the self-citations and total citations\n",
    "    Top15['Ratio'] = Top15['Self-citations'] / Top15['Citations']\n",
    "    # retrieve the index (Coutry) with the highest ratio from the last column (-1)\n",
    "    maxRatio_country = Top15.iloc[:,-1].idxmax()\n",
    "    # retrive the highest value from the last column (-1)\n",
    "    maxRatio = Top15.iloc[:,-1].max()\n",
    "    # create a tuple for the country and the value\n",
    "    return (maxRatio_country, maxRatio)"
   ]
  },
  {
   "cell_type": "markdown",
   "metadata": {},
   "source": [
    "### Question 8 (6.6%)\n",
    "\n",
    "Create a column that estimates the population using Energy Supply and Energy Supply per capita. \n",
    "What is the third most populous country according to this estimate?\n",
    "\n",
    "*This function should return a single string value.*"
   ]
  },
  {
   "cell_type": "code",
   "execution_count": 142,
   "metadata": {},
   "outputs": [],
   "source": [
    "def answer_eight():\n",
    "    # call the answer for question #1\n",
    "    Top15 = answer_one()\n",
    "    # create a new column that estimates the total population for each country\n",
    "    Top15['Population Estimate'] = Top15['Energy Supply'] / Top15['Energy Supply per Capita']\n",
    "    # sort the values in descending order\n",
    "    Top15.sort_values(['Population Estimate'], ascending=False, inplace=True)\n",
    "    # retrieve the estimated third most populated country by calling the index \n",
    "    third_pop_est = Top15.index[2]\n",
    "    return third_pop_est"
   ]
  },
  {
   "cell_type": "markdown",
   "metadata": {},
   "source": [
    "### Question 9 (6.6%)\n",
    "Create a column that estimates the number of citable documents per person. \n",
    "What is the correlation between the number of citable documents per capita and the energy supply per capita? Use the `.corr()` method, (Pearson's correlation).\n",
    "\n",
    "*This function should return a single number.*\n",
    "\n",
    "*(Optional: Use the built-in function `plot9()` to visualize the relationship between Energy Supply per Capita vs. Citable docs per Capita)*"
   ]
  },
  {
   "cell_type": "code",
   "execution_count": 147,
   "metadata": {},
   "outputs": [],
   "source": [
    "def answer_nine():\n",
    "    # call the answer for question #1\n",
    "    Top15 = answer_one()\n",
    "    # create a new column that estimates the total population for each country\n",
    "    Top15['Population Estimate'] = Top15['Energy Supply'] / Top15['Energy Supply per Capita']\n",
    "    # create a new column that estimates the citable documents per person\n",
    "    Top15['Citable Docs per Capita'] = Top15['Citable documents'] / Top15['Population Estimate']\n",
    "    # find the correlation between 'Citable Docs per Capita' and 'Energy Supply per Capita'\n",
    "    corr_citabledDocs_energySupply = Top15['Citable Docs per Capita'].corr(Top15['Energy Supply per Capita'])\n",
    "    return corr_citabledDocs_energySupply"
   ]
  },
  {
   "cell_type": "code",
   "execution_count": null,
   "metadata": {},
   "outputs": [],
   "source": [
    "def plot9():\n",
    "    import matplotlib as plt\n",
    "    %matplotlib inline\n",
    "    \n",
    "    Top15 = answer_one()\n",
    "    Top15['PopEst'] = Top15['Energy Supply'] / Top15['Energy Supply per Capita']\n",
    "    Top15['Citable docs per Capita'] = Top15['Citable documents'] / Top15['PopEst']\n",
    "    Top15.plot(x='Citable docs per Capita', y='Energy Supply per Capita', kind='scatter', xlim=[0, 0.0006])"
   ]
  },
  {
   "cell_type": "markdown",
   "metadata": {},
   "source": [
    "### Question 10 (6.6%)\n",
    "Create a new column with a 1 if the country's % Renewable value is at or above the median for all countries in the top 15, and a 0 if the country's % Renewable value is below the median.\n",
    "\n",
    "*This function should return a series named `HighRenew` whose index is the country name sorted in ascending order of rank.*"
   ]
  },
  {
   "cell_type": "code",
   "execution_count": 160,
   "metadata": {
    "scrolled": true
   },
   "outputs": [],
   "source": [
    "def answer_ten():\n",
    "    # call the answer for question #1\n",
    "    Top15 = answer_one()\n",
    "    # create a column which stores a 1 if the '% Renewable' is greater the median of '% Renewable', and 0 if not\n",
    "    Top15['HighRenew'] = np.where(Top15['% Renewable'] >= Top15['% Renewable'].median(), 1, 0)\n",
    "    return Top15['HighRenew']"
   ]
  },
  {
   "cell_type": "markdown",
   "metadata": {},
   "source": [
    "### Question 11 (6.6%)\n",
    "Use the following dictionary to group the Countries by Continent, then create a dateframe that displays the sample size (the number of countries in each continent bin), and the sum, mean, and std deviation for the estimated population of each country.\n",
    "\n",
    "```python\n",
    "ContinentDict  = {'China':'Asia', \n",
    "                  'United States':'North America', \n",
    "                  'Japan':'Asia', \n",
    "                  'United Kingdom':'Europe', \n",
    "                  'Russian Federation':'Europe', \n",
    "                  'Canada':'North America', \n",
    "                  'Germany':'Europe', \n",
    "                  'India':'Asia',\n",
    "                  'France':'Europe', \n",
    "                  'South Korea':'Asia', \n",
    "                  'Italy':'Europe', \n",
    "                  'Spain':'Europe', \n",
    "                  'Iran':'Asia',\n",
    "                  'Australia':'Australia', \n",
    "                  'Brazil':'South America'}\n",
    "```\n",
    "\n",
    "*This function should return a DataFrame with index named Continent `['Asia', 'Australia', 'Europe', 'North America', 'South America']` and columns `['size', 'sum', 'mean', 'std']`*"
   ]
  },
  {
   "cell_type": "code",
   "execution_count": 220,
   "metadata": {},
   "outputs": [],
   "source": [
    "def answer_eleven():\n",
    "    # call the answer for question #1\n",
    "    Top15 = answer_one()\n",
    "    \n",
    "    ContinentDict  = {'China':'Asia', \n",
    "                  'United States':'North America', \n",
    "                  'Japan':'Asia', \n",
    "                  'United Kingdom':'Europe', \n",
    "                  'Russian Federation':'Europe', \n",
    "                  'Canada':'North America', \n",
    "                  'Germany':'Europe', \n",
    "                  'India':'Asia',\n",
    "                  'France':'Europe', \n",
    "                  'South Korea':'Asia', \n",
    "                  'Italy':'Europe', \n",
    "                  'Spain':'Europe', \n",
    "                  'Iran':'Asia',\n",
    "                  'Australia':'Australia', \n",
    "                  'Brazil':'South America'}\n",
    "    \n",
    "    # create a new column that assigns the index 'Country' to its respective continent using the '.map' function\n",
    "    Top15['Continent'] = Top15.index.map(ContinentDict)\n",
    "    # create a new column that estimates the total population for each country\n",
    "    Top15['Population Estimate'] = Top15['Energy Supply'] / Top15['Energy Supply per Capita']\n",
    "    # using '.groupby', create a new dataframe with 'Continent' as the index and using '.agg', create columns with 'size', 'sum', 'mean', 'std' as aggregates\n",
    "    continent_df = Top15.groupby('Continent')['Population Estimate'].agg({'size','sum','mean','std'})\n",
    "    return continent_df"
   ]
  },
  {
   "cell_type": "markdown",
   "metadata": {},
   "source": [
    "### Question 12 (6.6%)\n",
    "Cut % Renewable into 5 bins. Group Top15 by the Continent, as well as these new % Renewable bins. How many countries are in each of these groups?\n",
    "\n",
    "*This function should return a __Series__ with a MultiIndex of `Continent`, then the bins for `% Renewable`. Do not include groups with no countries.*"
   ]
  },
  {
   "cell_type": "code",
   "execution_count": 233,
   "metadata": {
    "scrolled": true
   },
   "outputs": [],
   "source": [
    "def answer_twelve():\n",
    "    # call the answer for question #1\n",
    "    Top15 = answer_one()\n",
    "    \n",
    "    ContinentDict  = {'China':'Asia', \n",
    "                  'United States':'North America', \n",
    "                  'Japan':'Asia', \n",
    "                  'United Kingdom':'Europe', \n",
    "                  'Russian Federation':'Europe', \n",
    "                  'Canada':'North America', \n",
    "                  'Germany':'Europe', \n",
    "                  'India':'Asia',\n",
    "                  'France':'Europe', \n",
    "                  'South Korea':'Asia', \n",
    "                  'Italy':'Europe', \n",
    "                  'Spain':'Europe', \n",
    "                  'Iran':'Asia',\n",
    "                  'Australia':'Australia', \n",
    "                  'Brazil':'South America'}\n",
    "    \n",
    "    # create a new column that assigns the index 'Country' to its respective continent using the '.map' function\n",
    "    Top15['Continent'] = Top15.index.map(ContinentDict)\n",
    "    # using 'pd.cut', create a new column that assigns a country to a 'Bin' with respect to '% Renewable'\n",
    "    Top15['Bin'] = pd.cut(Top15['% Renewable'], 5)\n",
    "    # using '.groupyby', create a multiindex series of 'Continent' and 'Bin' and specify the size for each\n",
    "    bins_continent_perRen = Top15.groupby(['Continent', 'Bin']).size()\n",
    "    return bins_continent_perRen"
   ]
  },
  {
   "cell_type": "markdown",
   "metadata": {},
   "source": [
    "### Question 13 (6.6%)\n",
    "Convert the Population Estimate series to a string with thousands separator (using commas). Do not round the results.\n",
    "\n",
    "e.g. 317615384.61538464 -> 317,615,384.61538464\n",
    "\n",
    "*This function should return a Series `PopEst` whose index is the country name and whose values are the population estimate string.*"
   ]
  },
  {
   "cell_type": "code",
   "execution_count": 245,
   "metadata": {
    "scrolled": true
   },
   "outputs": [],
   "source": [
    "def answer_thirteen():\n",
    "    # call the answer for question #1\n",
    "    Top15 = answer_one()\n",
    "    # create a new column that estimates the total population for each country\n",
    "    Top15['Population Estimate'] = Top15['Energy Supply'] / Top15['Energy Supply per Capita']\n",
    "    # using '.apply', format the 'Population Estimate' to have thousand separators and using '.astype', convert the values from float to string\n",
    "    return Top15['Population Estimate'].apply(lambda x: '{:,}'.format(x)).astype(str)"
   ]
  },
  {
   "cell_type": "markdown",
   "metadata": {},
   "source": [
    "### Optional\n",
    "\n",
    "Use the built in function `plot_optional()` to see an example visualization."
   ]
  },
  {
   "cell_type": "code",
   "execution_count": null,
   "metadata": {
    "scrolled": true
   },
   "outputs": [],
   "source": [
    "def plot_optional():\n",
    "    import matplotlib as plt\n",
    "    %matplotlib inline\n",
    "    Top15 = answer_one()\n",
    "    ax = Top15.plot(x='Rank', y='% Renewable', kind='scatter', \n",
    "                    c=['#e41a1c','#377eb8','#e41a1c','#4daf4a','#4daf4a','#377eb8','#4daf4a','#e41a1c',\n",
    "                       '#4daf4a','#e41a1c','#4daf4a','#4daf4a','#e41a1c','#dede00','#ff7f00'], \n",
    "                    xticks=range(1,16), s=6*Top15['2014']/10**10, alpha=.75, figsize=[16,6]);\n",
    "\n",
    "    for i, txt in enumerate(Top15.index):\n",
    "        ax.annotate(txt, [Top15['Rank'][i], Top15['% Renewable'][i]], ha='center')\n",
    "\n",
    "    print(\"This is an example of a visualization that can be created to help understand the data. \\\n",
    "This is a bubble chart showing % Renewable vs. Rank. The size of the bubble corresponds to the countries' \\\n",
    "2014 GDP, and the color corresponds to the continent.\")"
   ]
  },
  {
   "cell_type": "code",
   "execution_count": null,
   "metadata": {},
   "outputs": [],
   "source": [
    "#plot_optional() # Be sure to comment out plot_optional() before submitting the assignment!"
   ]
  }
 ],
 "metadata": {
  "anaconda-cloud": {},
  "coursera": {
   "course_slug": "python-data-analysis",
   "graded_item_id": "zAr06",
   "launcher_item_id": "KSSjT",
   "part_id": "SL3fU"
  },
  "kernelspec": {
   "display_name": "Python 3",
   "language": "python",
   "name": "python3"
  },
  "language_info": {
   "codemirror_mode": {
    "name": "ipython",
    "version": 3
   },
   "file_extension": ".py",
   "mimetype": "text/x-python",
   "name": "python",
   "nbconvert_exporter": "python",
   "pygments_lexer": "ipython3",
   "version": "3.7.4"
  }
 },
 "nbformat": 4,
 "nbformat_minor": 1
}
